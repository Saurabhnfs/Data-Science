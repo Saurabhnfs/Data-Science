{
 "cells": [
  {
   "cell_type": "code",
   "execution_count": 1,
   "id": "e6c8ef91",
   "metadata": {},
   "outputs": [
    {
     "name": "stdout",
     "output_type": "stream",
     "text": [
      "('alien_x',)\n",
      "('college',)\n",
      "('college_students_info',)\n",
      "('company',)\n",
      "('employee',)\n",
      "('information_schema',)\n",
      "('mysql',)\n",
      "('office',)\n",
      "('performance_schema',)\n",
      "('sys',)\n"
     ]
    }
   ],
   "source": [
    "import mysql.connector\n",
    "\n",
    "mydb=mysql.connector.connect(\n",
    "    host=\"localhost\",\n",
    "    user=\"root\",\n",
    "    password=\"MySQL@123\"\n",
    ")\n",
    "\n",
    "mycursor=mydb.cursor()\n",
    "mycursor.execute(\"SHOW DATABASES\")\n",
    "\n",
    "for x in mycursor:\n",
    "    print(x)"
   ]
  },
  {
   "cell_type": "code",
   "execution_count": 2,
   "id": "461e2df7",
   "metadata": {},
   "outputs": [],
   "source": [
    "mycursor.execute(\"CREATE DATABASE pokemon\")"
   ]
  },
  {
   "cell_type": "code",
   "execution_count": 3,
   "id": "9c6f9157",
   "metadata": {},
   "outputs": [
    {
     "name": "stdout",
     "output_type": "stream",
     "text": [
      "('alien_x',)\n",
      "('college',)\n",
      "('college_students_info',)\n",
      "('company',)\n",
      "('employee',)\n",
      "('information_schema',)\n",
      "('mysql',)\n",
      "('office',)\n",
      "('performance_schema',)\n",
      "('pokemon',)\n",
      "('sys',)\n"
     ]
    }
   ],
   "source": [
    "mycursor.execute(\"SHOW DATABASES\")\n",
    "\n",
    "for x in mycursor:\n",
    "    print(x)"
   ]
  },
  {
   "cell_type": "code",
   "execution_count": 6,
   "id": "857326a2",
   "metadata": {},
   "outputs": [],
   "source": [
    "mydb=mysql.connector.connect(\n",
    "    host=\"localhost\",\n",
    "    user=\"root\",\n",
    "    password=\"MySQL@123\",\n",
    "    database=\"pokemon\"\n",
    ")\n",
    "\n",
    "mycursor=mydb.cursor()\n",
    "mycursor.execute(\"CREATE TABLE poke_info (poke_id int, poke_name varchar(10), poke_battle_score int)\")\n"
   ]
  },
  {
   "cell_type": "code",
   "execution_count": 12,
   "id": "dd183bf4",
   "metadata": {},
   "outputs": [
    {
     "name": "stdout",
     "output_type": "stream",
     "text": [
      "('poke_info',)\n"
     ]
    }
   ],
   "source": [
    "mydb=mysql.connector.connect(\n",
    "    host=\"localhost\",\n",
    "    user=\"root\",\n",
    "    password=\"MySQL@123\",\n",
    "    database=\"pokemon\"\n",
    ")\n",
    "mycursor=mydb.cursor()\n",
    "mycursor.execute(\"SHOW TABLES\")\n",
    "\n",
    "for x in mycursor:\n",
    "    print(x)"
   ]
  },
  {
   "cell_type": "code",
   "execution_count": 14,
   "id": "a14177c7",
   "metadata": {},
   "outputs": [
    {
     "name": "stdout",
     "output_type": "stream",
     "text": [
      "3 row inserted\n"
     ]
    }
   ],
   "source": [
    "sql=\"INSERT INTO poke_info VALUES (1001,'pikachu',210),(1002,'charlizard',310),(1003,'mutu',500)\"\n",
    "\n",
    "mycursor.execute(sql)\n",
    "\n",
    "mydb.commit()\n",
    "print(mycursor.rowcount,\"row inserted\")"
   ]
  },
  {
   "cell_type": "code",
   "execution_count": 15,
   "id": "c4785343",
   "metadata": {},
   "outputs": [
    {
     "name": "stdout",
     "output_type": "stream",
     "text": [
      "(1001, 'pikachu', 210)\n",
      "(1002, 'charlizard', 310)\n",
      "(1003, 'mutu', 500)\n"
     ]
    }
   ],
   "source": [
    "sql=\"SELECT * FROM poke_info\"\n",
    "mycursor.execute(sql)\n",
    "\n",
    "myresult=mycursor.fetchall()\n",
    "\n",
    "for x in myresult:\n",
    "    print(x)"
   ]
  },
  {
   "cell_type": "code",
   "execution_count": 16,
   "id": "2c120c27",
   "metadata": {},
   "outputs": [
    {
     "name": "stdout",
     "output_type": "stream",
     "text": [
      "(1001, 'pikachu', 210)\n",
      "(1003, 'mutu', 500)\n"
     ]
    }
   ],
   "source": [
    "sql=\"SELECT * FROM poke_info WHERE poke_battle_score IN(100,210,500)\"\n",
    "mycursor.execute(sql)\n",
    "\n",
    "myresult=mycursor.fetchall()\n",
    "\n",
    "for x in myresult:\n",
    "    print(x)"
   ]
  },
  {
   "cell_type": "code",
   "execution_count": 26,
   "id": "2a5698fe",
   "metadata": {},
   "outputs": [
    {
     "name": "stdout",
     "output_type": "stream",
     "text": [
      "(1001, 'pikachu', 210)\n",
      "(1002, 'charlizard', 310)\n"
     ]
    }
   ],
   "source": [
    "sql=\"SELECT * FROM poke_info WHERE poke_battle_score BETWEEN 200 AND 400\"\n",
    "mycursor.execute(sql)\n",
    "\n",
    "myresult=mycursor.fetchall()\n",
    "\n",
    "for x in myresult:\n",
    "    print(x)"
   ]
  },
  {
   "cell_type": "code",
   "execution_count": 31,
   "id": "f08af622",
   "metadata": {},
   "outputs": [
    {
     "name": "stdout",
     "output_type": "stream",
     "text": [
      "(1003, 'mutu')\n"
     ]
    }
   ],
   "source": [
    "sql=\"SELECT poke_id, poke_name FROM poke_info WHERE poke_battle_score LIKE '5%'\"\n",
    "mycursor.execute(sql)\n",
    "\n",
    "myresult=mycursor.fetchall()\n",
    "\n",
    "for x in myresult:\n",
    "    print(x)"
   ]
  },
  {
   "cell_type": "code",
   "execution_count": null,
   "id": "127f8e57",
   "metadata": {},
   "outputs": [],
   "source": []
  }
 ],
 "metadata": {
  "kernelspec": {
   "display_name": "Python 3 (ipykernel)",
   "language": "python",
   "name": "python3"
  },
  "language_info": {
   "codemirror_mode": {
    "name": "ipython",
    "version": 3
   },
   "file_extension": ".py",
   "mimetype": "text/x-python",
   "name": "python",
   "nbconvert_exporter": "python",
   "pygments_lexer": "ipython3",
   "version": "3.9.13"
  }
 },
 "nbformat": 4,
 "nbformat_minor": 5
}
