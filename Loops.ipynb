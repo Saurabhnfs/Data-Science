{
 "cells": [
  {
   "cell_type": "code",
   "execution_count": 5,
   "id": "01d256f8",
   "metadata": {},
   "outputs": [
    {
     "name": "stdout",
     "output_type": "stream",
     "text": [
      "7\n",
      "14\n",
      "21\n",
      "28\n",
      "35\n",
      "42\n",
      "The sum of the numbers is: 42\n"
     ]
    }
   ],
   "source": [
    "Numbers = [2,3,6,4,2,7]\n",
    "sum = 0\n",
    "\n",
    "for val in Numbers:\n",
    "    sum =sum+l\n",
    "    print(sum)\n",
    "\n",
    "print(\"The sum of the numbers is:\",sum)\n",
    "    "
   ]
  },
  {
   "cell_type": "code",
   "execution_count": 8,
   "id": "1ee5c946",
   "metadata": {},
   "outputs": [
    {
     "name": "stdout",
     "output_type": "stream",
     "text": [
      "0\n",
      "2\n",
      "6\n",
      "5\n",
      "3\n",
      "4\n",
      "6\n",
      "All digits are exhausted\n"
     ]
    }
   ],
   "source": [
    "digits = [0,2,6,5,3,4,6]\n",
    "\n",
    "for d in digits:\n",
    "    print(d)\n",
    "else:\n",
    "    print(\"All digits are exhausted\")"
   ]
  },
  {
   "cell_type": "code",
   "execution_count": 15,
   "id": "8665fad7",
   "metadata": {},
   "outputs": [
    {
     "name": "stdout",
     "output_type": "stream",
     "text": [
      "sum = 1\n",
      "i = 2\n",
      "sum = 3\n",
      "i = 3\n",
      "sum = 6\n",
      "i = 4\n",
      "sum = 10\n",
      "i = 5\n",
      "sum = 15\n",
      "i = 6\n",
      "sum = 21\n",
      "i = 7\n",
      "sum = 28\n",
      "i = 8\n",
      "sum = 36\n",
      "i = 9\n",
      "sum = 45\n",
      "i = 10\n",
      "sum = 55\n",
      "i = 11\n"
     ]
    }
   ],
   "source": [
    "n =10\n",
    "i =1\n",
    "sum =0\n",
    "\n",
    "while i<=n :\n",
    "    sum=sum+i\n",
    "    i=i+1\n",
    "    print(\"sum =\", sum)\n",
    "    print(\"i =\", i)"
   ]
  },
  {
   "cell_type": "code",
   "execution_count": 18,
   "id": "1ff83fb7",
   "metadata": {},
   "outputs": [
    {
     "name": "stdout",
     "output_type": "stream",
     "text": [
      "4\n",
      "5\n"
     ]
    }
   ],
   "source": [
    "x =[1,4,3,5,3]\n",
    "for i in x:\n",
    "    if i>3:\n",
    "        print(i)"
   ]
  },
  {
   "cell_type": "code",
   "execution_count": 21,
   "id": "13946ce7",
   "metadata": {},
   "outputs": [
    {
     "name": "stdout",
     "output_type": "stream",
     "text": [
      "30\n"
     ]
    }
   ],
   "source": [
    "x =[20,40,30,50]\n",
    "\n",
    "for i in x:\n",
    "    if i==30:\n",
    "        print(i)"
   ]
  },
  {
   "cell_type": "code",
   "execution_count": 22,
   "id": "8090df13",
   "metadata": {},
   "outputs": [
    {
     "name": "stdout",
     "output_type": "stream",
     "text": [
      "20\n",
      "30\n",
      "40\n",
      "50\n",
      "60\n",
      "70\n",
      "80\n",
      "90\n",
      "100\n",
      "110\n"
     ]
    }
   ],
   "source": [
    "marks = 100\n",
    "x = 10\n",
    "\n",
    "while x<=marks:\n",
    "    x+=10\n",
    "    print(x)"
   ]
  },
  {
   "cell_type": "code",
   "execution_count": null,
   "id": "98a293f1",
   "metadata": {},
   "outputs": [],
   "source": []
  }
 ],
 "metadata": {
  "kernelspec": {
   "display_name": "Python 3 (ipykernel)",
   "language": "python",
   "name": "python3"
  },
  "language_info": {
   "codemirror_mode": {
    "name": "ipython",
    "version": 3
   },
   "file_extension": ".py",
   "mimetype": "text/x-python",
   "name": "python",
   "nbconvert_exporter": "python",
   "pygments_lexer": "ipython3",
   "version": "3.9.13"
  }
 },
 "nbformat": 4,
 "nbformat_minor": 5
}
