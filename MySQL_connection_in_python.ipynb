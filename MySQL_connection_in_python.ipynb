{
 "cells": [
  {
   "cell_type": "code",
   "execution_count": 19,
   "id": "370d7a62",
   "metadata": {},
   "outputs": [
    {
     "name": "stdout",
     "output_type": "stream",
     "text": [
      "<mysql.connector.connection_cext.CMySQLConnection object at 0x0000019DDB0E9700>\n"
     ]
    }
   ],
   "source": [
    "#Importng Mysql\n",
    "\n",
    "import mysql.connector\n",
    "mydb = mysql.connector.connect(\n",
    "    host=\"localhost\",\n",
    "    user=\"root\",\n",
    "    password=\"MySQL@123\"\n",
    ")\n",
    "\n",
    "print(mydb)"
   ]
  },
  {
   "cell_type": "code",
   "execution_count": 23,
   "id": "feaa16d4",
   "metadata": {},
   "outputs": [
    {
     "name": "stdout",
     "output_type": "stream",
     "text": [
      "('college',)\n",
      "('college_students_info',)\n",
      "('company',)\n",
      "('employee',)\n",
      "('information_schema',)\n",
      "('mysql',)\n",
      "('performance_schema',)\n",
      "('sys',)\n"
     ]
    }
   ],
   "source": [
    "#Showing all the available databases\n",
    "\n",
    "mycursor = mydb.cursor()\n",
    "\n",
    "mycursor.execute(\"SHOW DATABASES\")\n",
    "\n",
    "for x in mycursor:\n",
    "    print(x)"
   ]
  },
  {
   "cell_type": "code",
   "execution_count": 22,
   "id": "e522ed7b",
   "metadata": {},
   "outputs": [],
   "source": [
    "#creating new database\n",
    "\n",
    "mycursor = mydb.cursor()\n",
    "\n",
    "mycursor.execute(\"CREATE DATABASE college_students_info\")"
   ]
  },
  {
   "cell_type": "code",
   "execution_count": 26,
   "id": "395bd8f9",
   "metadata": {},
   "outputs": [],
   "source": [
    "#creating new table\n",
    "\n",
    "mydb = mysql.connector.connect(\n",
    "    host=\"localhost\",\n",
    "    user=\"root\",\n",
    "    password=\"MySQL@123\",\n",
    "    database=\"college_students_info\"\n",
    ")\n",
    "\n",
    "mycursor = mydb.cursor()\n",
    "\n",
    "mycursor.execute(\"CREATE TABLE personal_info(student_id int(7), name varchar(15), gender varchar(6))\")\n"
   ]
  },
  {
   "cell_type": "code",
   "execution_count": 29,
   "id": "567eb65e",
   "metadata": {},
   "outputs": [
    {
     "name": "stdout",
     "output_type": "stream",
     "text": [
      "('personal_info',)\n"
     ]
    }
   ],
   "source": [
    "#checking if the table exist\n",
    "\n",
    "mydb = mysql.connector.connect(\n",
    "    host=\"localhost\",\n",
    "    user=\"root\",\n",
    "    password=\"MySQL@123\",\n",
    "    database=\"college_students_info\"\n",
    ")\n",
    "\n",
    "mycursor = mydb.cursor()\n",
    "\n",
    "mycursor.execute(\"SHOW TABLES\")\n",
    "\n",
    "for x in mycursor:\n",
    "    print(x)"
   ]
  },
  {
   "cell_type": "code",
   "execution_count": 42,
   "id": "9f29708c",
   "metadata": {},
   "outputs": [
    {
     "name": "stdout",
     "output_type": "stream",
     "text": [
      "1  record inserted\n"
     ]
    }
   ],
   "source": [
    "#inserting single record in the table\n",
    "mydb = mysql.connector.connect(\n",
    "    host=\"localhost\",\n",
    "    user=\"root\",\n",
    "    password=\"MySQL@123\",\n",
    "    database=\"college_students_info\"\n",
    ")\n",
    "\n",
    "mycursor = mydb.cursor()\n",
    "sql=\"INSERT INTO personal_info(student_id, name, gender) VALUES (100,'bhargav','Male')\"\n",
    "\n",
    "mycursor.execute(sql)\n",
    "mydb.commit()\n",
    "\n",
    "print(mycursor.rowcount,\" record inserted\")"
   ]
  },
  {
   "cell_type": "code",
   "execution_count": 45,
   "id": "c583a555",
   "metadata": {},
   "outputs": [
    {
     "name": "stdout",
     "output_type": "stream",
     "text": [
      "3  records inserted\n"
     ]
    }
   ],
   "source": [
    "#inserting multiple record in the table\n",
    "mydb = mysql.connector.connect(\n",
    "    host=\"localhost\",\n",
    "    user=\"root\",\n",
    "    password=\"MySQL@123\",\n",
    "    database=\"college_students_info\"\n",
    ")\n",
    "\n",
    "mycursor = mydb.cursor()\n",
    "\n",
    "sql=\"INSERT INTO personal_info VALUES(101,'Saurabh','Male'),(102,'Sayandrila','Female'),(103,'Satyarth','Male')\"\n",
    "\n",
    "mycursor.execute(sql)\n",
    "mydb.commit()\n",
    "\n",
    "print(mycursor.rowcount,\" records inserted\")\n"
   ]
  },
  {
   "cell_type": "code",
   "execution_count": 54,
   "id": "e53c128c",
   "metadata": {},
   "outputs": [
    {
     "name": "stdout",
     "output_type": "stream",
     "text": [
      "2  records inserted\n"
     ]
    }
   ],
   "source": [
    "#Another way of inserting values in table\n",
    "\n",
    "sql=\"INSERT INTO personal_info (student_id, name, gender) VALUES(%s,%s,%s)\"\n",
    "val=((104,'Sangita', 'Female'), (105,'Satish','Male'))\n",
    "\n",
    "mycursor.executemany(sql, val)\n",
    "mydb.commit()\n",
    "\n",
    "print(mycursor.rowcount,\" records inserted\")"
   ]
  },
  {
   "cell_type": "code",
   "execution_count": 55,
   "id": "2367b00a",
   "metadata": {},
   "outputs": [
    {
     "name": "stdout",
     "output_type": "stream",
     "text": [
      "(100, 'bhargav', 'Male')\n",
      "(101, 'Saurabh', 'Male')\n",
      "(102, 'Sayandrila', 'Female')\n",
      "(103, 'Satyarth', 'Male')\n",
      "(101, 'Saurabh', 'Male')\n",
      "(102, 'Sayandrila', 'Female')\n",
      "(103, 'Satyarth', 'Male')\n",
      "(104, 'Sangita', 'Female')\n",
      "(105, 'Satish', 'Male')\n"
     ]
    }
   ],
   "source": [
    "#fetching data from table\n",
    "\n",
    "mycursor.execute(\"SELECT * FROM personal_info\")\n",
    "\n",
    "myresult=mycursor.fetchall()\n",
    "\n",
    "for x in myresult:\n",
    "    print(x)"
   ]
  },
  {
   "cell_type": "code",
   "execution_count": 65,
   "id": "50185f94",
   "metadata": {},
   "outputs": [
    {
     "name": "stdout",
     "output_type": "stream",
     "text": [
      "(103, 'Satyarth', 'Male')\n"
     ]
    }
   ],
   "source": [
    "# Where condition\n",
    "\n",
    "mycursor=mydb.cursor()\n",
    "\n",
    "sql=\"SELECT DISTINCT * FROM personal_info WHERE student_id = 103\"\n",
    "\n",
    "mycursor.execute(sql)\n",
    "\n",
    "myresult=mycursor.fetchall()\n",
    "\n",
    "for x in myresult:\n",
    "    print(x)"
   ]
  },
  {
   "cell_type": "code",
   "execution_count": 68,
   "id": "f5ce4890",
   "metadata": {},
   "outputs": [
    {
     "name": "stdout",
     "output_type": "stream",
     "text": [
      "(105, 'Satish', 'Male')\n",
      "(104, 'Sangita', 'Female')\n",
      "(103, 'Satyarth', 'Male')\n",
      "(103, 'Satyarth', 'Male')\n",
      "(102, 'Sayandrila', 'Female')\n",
      "(102, 'Sayandrila', 'Female')\n",
      "(101, 'Saurabh', 'Male')\n",
      "(101, 'Saurabh', 'Male')\n",
      "(100, 'bhargav', 'Male')\n"
     ]
    }
   ],
   "source": [
    "# ORDER BY condition\n",
    "\n",
    "sql=\"SELECT * FROM personal_info ORDER BY student_id desc\"\n",
    "\n",
    "mycursor.execute(sql)\n",
    "myresult=mycursor.fetchall()\n",
    "\n",
    "for x in myresult:\n",
    "    print(x)"
   ]
  },
  {
   "cell_type": "code",
   "execution_count": 97,
   "id": "3914c440",
   "metadata": {},
   "outputs": [
    {
     "name": "stdout",
     "output_type": "stream",
     "text": [
      "(6, 'Male')\n",
      "(3, 'Female')\n"
     ]
    }
   ],
   "source": [
    "mydb = mysql.connector.connect(\n",
    "    host=\"localhost\",\n",
    "    user=\"root\",\n",
    "    password=\"MySQL@123\",\n",
    "    database=\"college_students_info\"\n",
    ")\n",
    "\n",
    "mycursor = mydb.cursor()\n",
    "\n",
    "sql=\"SELECT COUNT(student_id), gender from personal_info GROUP BY gender\"\n",
    "\n",
    "mycursor.execute(sql)\n",
    "myresult=mycursor.fetchall()\n",
    "\n",
    "for x in myresult:\n",
    "    print(x)"
   ]
  },
  {
   "cell_type": "code",
   "execution_count": null,
   "id": "19d23a82",
   "metadata": {},
   "outputs": [],
   "source": []
  },
  {
   "cell_type": "code",
   "execution_count": 78,
   "id": "691b9436",
   "metadata": {},
   "outputs": [],
   "source": [
    "#creating new database\n",
    "\n",
    "import mysql.connector\n",
    "\n",
    "mydb = mysql.connector.connect(\n",
    "    host=\"localhost\",\n",
    "    user=\"root\",\n",
    "    password=\"MySQL@123\"\n",
    ")\n",
    "\n",
    "mycursor=mydb.cursor()\n",
    "mycursor.execute(\"CREATE DATABASE office\")"
   ]
  },
  {
   "cell_type": "code",
   "execution_count": 82,
   "id": "095b7684",
   "metadata": {},
   "outputs": [
    {
     "name": "stdout",
     "output_type": "stream",
     "text": [
      "('college',)\n",
      "('college_students_info',)\n",
      "('company',)\n",
      "('employee',)\n",
      "('information_schema',)\n",
      "('mysql',)\n",
      "('office',)\n",
      "('performance_schema',)\n",
      "('sys',)\n"
     ]
    }
   ],
   "source": [
    "mycursor.execute(\"SHOW DATABASES\")\n",
    "\n",
    "for x in mycursor:\n",
    "    print(x)"
   ]
  },
  {
   "cell_type": "code",
   "execution_count": 83,
   "id": "5f42af37",
   "metadata": {},
   "outputs": [],
   "source": [
    "#create table\n",
    "\n",
    "mydb = mysql.connector.connect(\n",
    "    host=\"localhost\",\n",
    "    user=\"root\",\n",
    "    password=\"MySQL@123\",\n",
    "    database=\"office\"\n",
    ")\n",
    "\n",
    "mycursor=mydb.cursor()\n",
    "\n",
    "mycursor.execute(\"CREATE TABLE employees_info(gender varchar(6),student_id int(7),marks int)\")"
   ]
  },
  {
   "cell_type": "code",
   "execution_count": 84,
   "id": "f58727de",
   "metadata": {},
   "outputs": [
    {
     "name": "stdout",
     "output_type": "stream",
     "text": [
      "('employees_info',)\n"
     ]
    }
   ],
   "source": [
    "mycursor.execute(\"SHOW TABLES\")\n",
    "\n",
    "for x in mycursor:\n",
    "    print(x)"
   ]
  },
  {
   "cell_type": "code",
   "execution_count": 91,
   "id": "22489391",
   "metadata": {},
   "outputs": [
    {
     "name": "stdout",
     "output_type": "stream",
     "text": [
      "5 records inserted\n"
     ]
    }
   ],
   "source": [
    "mydb = mysql.connector.connect(\n",
    "    host=\"localhost\",\n",
    "    user=\"root\",\n",
    "    password=\"MySQL@123\",\n",
    "    database=\"office\"\n",
    ")\n",
    "mycursor=mydb.cursor()\n",
    "\n",
    "sql=\"INSERT INTO employees_info VALUES('MALE',100,67),('FEMALE',101,87),('MALE',102,98),('FEMALE',103,90),('MALE',104,98)\"\n",
    "\n",
    "mycursor.execute(sql)\n",
    "mydb.commit()\n",
    "\n",
    "print(mycursor.rowcount,\"records inserted\")"
   ]
  },
  {
   "cell_type": "code",
   "execution_count": 92,
   "id": "a5c3389b",
   "metadata": {},
   "outputs": [
    {
     "name": "stdout",
     "output_type": "stream",
     "text": [
      "('MALE', 100, 67)\n",
      "('FEMALE', 101, 87)\n",
      "('MALE', 102, 98)\n",
      "('FEMALE', 103, 90)\n",
      "('MALE', 104, 98)\n"
     ]
    }
   ],
   "source": [
    "sql=\"SELECT * FROM employees_info\"\n",
    "\n",
    "mycursor.execute(sql)\n",
    "\n",
    "myresult=mycursor.fetchall()\n",
    "\n",
    "for x in myresult:\n",
    "    print(x)"
   ]
  },
  {
   "cell_type": "code",
   "execution_count": 93,
   "id": "858a773b",
   "metadata": {},
   "outputs": [
    {
     "name": "stdout",
     "output_type": "stream",
     "text": [
      "(3, 'MALE')\n",
      "(2, 'FEMALE')\n"
     ]
    }
   ],
   "source": [
    "sql=\"SELECT COUNT(student_id), gender from employees_info GROUP BY gender\"\n",
    "\n",
    "mycursor.execute(sql)\n",
    "myresult=mycursor.fetchall()\n",
    "\n",
    "for x in myresult:\n",
    "    print(x)"
   ]
  },
  {
   "cell_type": "code",
   "execution_count": 96,
   "id": "6eb94619",
   "metadata": {},
   "outputs": [
    {
     "name": "stdout",
     "output_type": "stream",
     "text": [
      "(3, 'MALE')\n"
     ]
    }
   ],
   "source": [
    "sql=\"SELECT COUNT(student_id), gender from employees_info GROUP BY gender HAVING count(gender)>2\"\n",
    "\n",
    "mycursor.execute(sql)\n",
    "myresult=mycursor.fetchall()\n",
    "\n",
    "for x in myresult:\n",
    "    print(x)"
   ]
  },
  {
   "cell_type": "code",
   "execution_count": null,
   "id": "76627321",
   "metadata": {},
   "outputs": [],
   "source": []
  }
 ],
 "metadata": {
  "kernelspec": {
   "display_name": "Python 3 (ipykernel)",
   "language": "python",
   "name": "python3"
  },
  "language_info": {
   "codemirror_mode": {
    "name": "ipython",
    "version": 3
   },
   "file_extension": ".py",
   "mimetype": "text/x-python",
   "name": "python",
   "nbconvert_exporter": "python",
   "pygments_lexer": "ipython3",
   "version": "3.9.13"
  }
 },
 "nbformat": 4,
 "nbformat_minor": 5
}
