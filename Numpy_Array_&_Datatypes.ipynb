{
 "cells": [
  {
   "cell_type": "markdown",
   "id": "4ac3b7f1",
   "metadata": {},
   "source": [
    "# NumPy_Array"
   ]
  },
  {
   "cell_type": "code",
   "execution_count": 1,
   "id": "60a31669",
   "metadata": {},
   "outputs": [
    {
     "data": {
      "text/plain": [
       "array([5, 6, 2])"
      ]
     },
     "execution_count": 1,
     "metadata": {},
     "output_type": "execute_result"
    }
   ],
   "source": [
    "import numpy as np\n",
    "np.array([5,6,2])"
   ]
  },
  {
   "cell_type": "code",
   "execution_count": 7,
   "id": "44d36042",
   "metadata": {},
   "outputs": [
    {
     "name": "stdout",
     "output_type": "stream",
     "text": [
      "[5 6 2]\n"
     ]
    },
    {
     "data": {
      "text/plain": [
       "array([5, 6, 2])"
      ]
     },
     "execution_count": 7,
     "metadata": {},
     "output_type": "execute_result"
    }
   ],
   "source": [
    "a = np.array([5,6,2])\n",
    "print(a)\n",
    "a"
   ]
  },
  {
   "cell_type": "code",
   "execution_count": 3,
   "id": "f0ee4ccb",
   "metadata": {},
   "outputs": [
    {
     "name": "stdout",
     "output_type": "stream",
     "text": [
      "[5 6 2]\n"
     ]
    }
   ],
   "source": [
    "print(a)"
   ]
  },
  {
   "cell_type": "code",
   "execution_count": 4,
   "id": "c3682029",
   "metadata": {},
   "outputs": [
    {
     "data": {
      "text/plain": [
       "numpy.ndarray"
      ]
     },
     "execution_count": 4,
     "metadata": {},
     "output_type": "execute_result"
    }
   ],
   "source": [
    "type(a)"
   ]
  },
  {
   "cell_type": "code",
   "execution_count": 5,
   "id": "abd3a61c",
   "metadata": {},
   "outputs": [
    {
     "data": {
      "text/plain": [
       "list"
      ]
     },
     "execution_count": 5,
     "metadata": {},
     "output_type": "execute_result"
    }
   ],
   "source": [
    "type([5,6,2])"
   ]
  },
  {
   "cell_type": "code",
   "execution_count": 8,
   "id": "4b6149fd",
   "metadata": {},
   "outputs": [
    {
     "data": {
      "text/plain": [
       "numpy.ndarray"
      ]
     },
     "execution_count": 8,
     "metadata": {},
     "output_type": "execute_result"
    }
   ],
   "source": [
    "type(np.array([5,6,2]))"
   ]
  },
  {
   "cell_type": "markdown",
   "id": "7e784034",
   "metadata": {},
   "source": [
    "# Two Dimensional Array"
   ]
  },
  {
   "cell_type": "code",
   "execution_count": 11,
   "id": "7400f476",
   "metadata": {},
   "outputs": [
    {
     "name": "stdout",
     "output_type": "stream",
     "text": [
      "[[1 2]\n",
      " [4 5]]\n"
     ]
    },
    {
     "data": {
      "text/plain": [
       "array([[1, 2],\n",
       "       [4, 5]])"
      ]
     },
     "execution_count": 11,
     "metadata": {},
     "output_type": "execute_result"
    }
   ],
   "source": [
    "arr = np.array([[1,2],[4,5]])\n",
    "print(arr)\n",
    "arr"
   ]
  },
  {
   "cell_type": "code",
   "execution_count": 16,
   "id": "a6c35569",
   "metadata": {},
   "outputs": [
    {
     "name": "stdout",
     "output_type": "stream",
     "text": [
      "Data_type- int32\n",
      "\n",
      " [[1 2]\n",
      " [4 5]]\n"
     ]
    }
   ],
   "source": [
    "print(\"Data_type-\", arr.dtype)\n",
    "print(\"\\n\",arr)"
   ]
  },
  {
   "cell_type": "code",
   "execution_count": 17,
   "id": "6226270e",
   "metadata": {},
   "outputs": [
    {
     "name": "stdout",
     "output_type": "stream",
     "text": [
      "[[0 9]\n",
      " [1 2]\n",
      " [4 5]]\n"
     ]
    },
    {
     "data": {
      "text/plain": [
       "array([[0, 9],\n",
       "       [1, 2],\n",
       "       [4, 5]])"
      ]
     },
     "execution_count": 17,
     "metadata": {},
     "output_type": "execute_result"
    }
   ],
   "source": [
    "arr1 = np.array([[0,9],[1,2],[4,5]])\n",
    "print(arr1)\n",
    "arr1"
   ]
  },
  {
   "cell_type": "code",
   "execution_count": 20,
   "id": "150357f8",
   "metadata": {},
   "outputs": [
    {
     "data": {
      "text/plain": [
       "array([[0, 9],\n",
       "       [1, 2],\n",
       "       [4, 5]])"
      ]
     },
     "execution_count": 20,
     "metadata": {},
     "output_type": "execute_result"
    }
   ],
   "source": [
    "np.array([[0,9],[1,2],[4,5]])"
   ]
  },
  {
   "cell_type": "markdown",
   "id": "d18e8fdd",
   "metadata": {},
   "source": [
    "# Create array using .mat(Matrix)"
   ]
  },
  {
   "cell_type": "code",
   "execution_count": 24,
   "id": "e3a0157f",
   "metadata": {},
   "outputs": [
    {
     "name": "stdout",
     "output_type": "stream",
     "text": [
      "[[123]\n",
      " [908]]\n"
     ]
    },
    {
     "data": {
      "text/plain": [
       "array([[123],\n",
       "       [908]])"
      ]
     },
     "execution_count": 24,
     "metadata": {},
     "output_type": "execute_result"
    }
   ],
   "source": [
    "arr2 = np.array(np.mat(\"123;908\"))\n",
    "print(arr2)\n",
    "arr2"
   ]
  },
  {
   "cell_type": "code",
   "execution_count": 25,
   "id": "b0d04d81",
   "metadata": {},
   "outputs": [
    {
     "name": "stdout",
     "output_type": "stream",
     "text": [
      "[[ 543]\n",
      " [ 873]\n",
      " [4322]]\n"
     ]
    }
   ],
   "source": [
    "arr3 = np.array(np.mat(\"543;873;4322\"))\n",
    "print(arr3)"
   ]
  },
  {
   "cell_type": "markdown",
   "id": "cefb3b10",
   "metadata": {},
   "source": [
    "# Convert a list into an array"
   ]
  },
  {
   "cell_type": "code",
   "execution_count": 50,
   "id": "aaa19243",
   "metadata": {},
   "outputs": [
    {
     "name": "stdout",
     "output_type": "stream",
     "text": [
      "[1 2 3 4 5]\n",
      "[[1 2 3 3]\n",
      " [4 3 2 4]]\n"
     ]
    }
   ],
   "source": [
    "list_1 = [1,2,3,4,5]\n",
    "arr4 = np.array(list_1)\n",
    "print(arr4)\n",
    "\n",
    "l = [[1,2,3,3],[4,3,2,4]]\n",
    "arr_4 = np.array(l)\n",
    "print(arr_4)"
   ]
  },
  {
   "cell_type": "code",
   "execution_count": 48,
   "id": "bf1ec122",
   "metadata": {},
   "outputs": [
    {
     "name": "stdout",
     "output_type": "stream",
     "text": [
      "[[1 2 3 3]\n",
      " [4 3 2 4]]\n",
      "[[1 2 3 4 5]]\n"
     ]
    }
   ],
   "source": [
    "arr5 = np.array(np.mat(list_1))\n",
    "arr_5 = np.array(np.mat(l))\n",
    "print(arr_5)\n",
    "print(arr5)"
   ]
  },
  {
   "cell_type": "code",
   "execution_count": 33,
   "id": "ec755c93",
   "metadata": {},
   "outputs": [
    {
     "name": "stdout",
     "output_type": "stream",
     "text": [
      "[[123]\n",
      " [345]\n",
      " [654]]\n"
     ]
    },
    {
     "data": {
      "text/plain": [
       "array([[123],\n",
       "       [345],\n",
       "       [654]])"
      ]
     },
     "execution_count": 33,
     "metadata": {},
     "output_type": "execute_result"
    }
   ],
   "source": [
    "list_2 = np.array(np.mat(\"123;345;654\"))\n",
    "print(list_2)\n",
    "list_2"
   ]
  },
  {
   "cell_type": "code",
   "execution_count": 34,
   "id": "565de9f0",
   "metadata": {},
   "outputs": [
    {
     "name": "stdout",
     "output_type": "stream",
     "text": [
      "[[123]\n",
      " [345]\n",
      " [654]]\n"
     ]
    },
    {
     "data": {
      "text/plain": [
       "array([[123],\n",
       "       [345],\n",
       "       [654]])"
      ]
     },
     "execution_count": 34,
     "metadata": {},
     "output_type": "execute_result"
    }
   ],
   "source": [
    "arr6 = np.array(np.mat(list_2))\n",
    "print(arr6)\n",
    "arr6"
   ]
  },
  {
   "cell_type": "markdown",
   "id": "3abd0109",
   "metadata": {},
   "source": [
    "# Copy an array in other array"
   ]
  },
  {
   "cell_type": "code",
   "execution_count": 35,
   "id": "8fcc1797",
   "metadata": {},
   "outputs": [
    {
     "name": "stdout",
     "output_type": "stream",
     "text": [
      "[[123]\n",
      " [345]\n",
      " [654]]\n"
     ]
    },
    {
     "data": {
      "text/plain": [
       "array([[123],\n",
       "       [345],\n",
       "       [654]])"
      ]
     },
     "execution_count": 35,
     "metadata": {},
     "output_type": "execute_result"
    }
   ],
   "source": [
    "arr7 = np.asarray(arr6)\n",
    "print(arr7)\n",
    "arr7"
   ]
  },
  {
   "cell_type": "markdown",
   "id": "59849436",
   "metadata": {},
   "source": [
    "# NumPy_Data Type"
   ]
  },
  {
   "cell_type": "code",
   "execution_count": 51,
   "id": "af19af1e",
   "metadata": {},
   "outputs": [
    {
     "name": "stdout",
     "output_type": "stream",
     "text": [
      "[[1.  2.  3.5]\n",
      " [3.  4.  5. ]\n",
      " [5.  6.  7. ]]\n"
     ]
    }
   ],
   "source": [
    "data_type1 = [[1,2,3.5],[3,4,5],[5,6,7]]\n",
    "data = np.array(data_type1)\n",
    "print(data)"
   ]
  },
  {
   "cell_type": "code",
   "execution_count": 64,
   "id": "0679e67a",
   "metadata": {},
   "outputs": [
    {
     "name": "stdout",
     "output_type": "stream",
     "text": [
      "The Matric is \n",
      " ----------- \n",
      " [[1 2 3]\n",
      " [3 4 5]\n",
      " [5 6 7]] \n",
      "------------\n",
      "\n",
      "type/class of this object- <class 'numpy.ndarray'>\n",
      "The dimension of the Metrix is : 2\n",
      "The size of the Matrix is: 9\n",
      "The shape of the Matrix is: (3, 3)\n",
      "The data type of the Matrix is: int32\n"
     ]
    }
   ],
   "source": [
    "data_type = [[1,2,3],[3,4,5],[5,6,7]]\n",
    "data = np.array(data_type)\n",
    "print(\"The Matric is \\n ----------- \\n\",data,\"\\n------------\\n\")\n",
    "print(\"type/class of this object-\", type(data))\n",
    "print(\"The dimension of the Metrix is :\", data.ndim)\n",
    "print(\"The size of the Matrix is:\", data.size)\n",
    "print(\"The shape of the Matrix is:\", data.shape)\n",
    "print(\"The data type of the Matrix is:\", data.dtype)"
   ]
  },
  {
   "cell_type": "code",
   "execution_count": null,
   "id": "1dcf3f69",
   "metadata": {},
   "outputs": [],
   "source": []
  },
  {
   "cell_type": "code",
   "execution_count": null,
   "id": "0b60df4a",
   "metadata": {},
   "outputs": [],
   "source": []
  },
  {
   "cell_type": "code",
   "execution_count": null,
   "id": "5a5b37a3",
   "metadata": {},
   "outputs": [],
   "source": []
  }
 ],
 "metadata": {
  "kernelspec": {
   "display_name": "Python 3 (ipykernel)",
   "language": "python",
   "name": "python3"
  },
  "language_info": {
   "codemirror_mode": {
    "name": "ipython",
    "version": 3
   },
   "file_extension": ".py",
   "mimetype": "text/x-python",
   "name": "python",
   "nbconvert_exporter": "python",
   "pygments_lexer": "ipython3",
   "version": "3.9.13"
  }
 },
 "nbformat": 4,
 "nbformat_minor": 5
}
