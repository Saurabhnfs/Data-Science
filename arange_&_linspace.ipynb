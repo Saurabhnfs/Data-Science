{
 "cells": [
  {
   "cell_type": "markdown",
   "id": "015a2e7a",
   "metadata": {},
   "source": [
    "# ARANGE & LINSPACE"
   ]
  },
  {
   "cell_type": "code",
   "execution_count": 1,
   "id": "e8e72844",
   "metadata": {},
   "outputs": [
    {
     "ename": "TypeError",
     "evalue": "'float' object cannot be interpreted as an integer",
     "output_type": "error",
     "traceback": [
      "\u001b[1;31m---------------------------------------------------------------------------\u001b[0m",
      "\u001b[1;31mTypeError\u001b[0m                                 Traceback (most recent call last)",
      "\u001b[1;32m~\\AppData\\Local\\Temp\\ipykernel_13440\\3073967025.py\u001b[0m in \u001b[0;36m<module>\u001b[1;34m\u001b[0m\n\u001b[1;32m----> 1\u001b[1;33m \u001b[0mlist\u001b[0m\u001b[1;33m(\u001b[0m\u001b[0mrange\u001b[0m\u001b[1;33m(\u001b[0m\u001b[1;36m2\u001b[0m\u001b[1;33m,\u001b[0m\u001b[1;36m10.5\u001b[0m\u001b[1;33m,\u001b[0m\u001b[1;36m2\u001b[0m\u001b[1;33m)\u001b[0m\u001b[1;33m)\u001b[0m\u001b[1;33m\u001b[0m\u001b[1;33m\u001b[0m\u001b[0m\n\u001b[0m",
      "\u001b[1;31mTypeError\u001b[0m: 'float' object cannot be interpreted as an integer"
     ]
    }
   ],
   "source": [
    "list(range(2,10.5,2))"
   ]
  },
  {
   "cell_type": "markdown",
   "id": "37747ac7",
   "metadata": {},
   "source": [
    "# Because float can not be interprete as an integer, we will use arange."
   ]
  },
  {
   "cell_type": "code",
   "execution_count": 2,
   "id": "d7be09d3",
   "metadata": {},
   "outputs": [
    {
     "name": "stdout",
     "output_type": "stream",
     "text": [
      "[ 2.   2.3  2.6  2.9  3.2  3.5  3.8  4.1  4.4  4.7  5.   5.3  5.6  5.9\n",
      "  6.2  6.5  6.8  7.1  7.4  7.7  8.   8.3  8.6  8.9  9.2  9.5  9.8 10.1\n",
      " 10.4 10.7 11.  11.3 11.6 11.9 12.2]\n"
     ]
    },
    {
     "data": {
      "text/plain": [
       "array([ 2. ,  2.3,  2.6,  2.9,  3.2,  3.5,  3.8,  4.1,  4.4,  4.7,  5. ,\n",
       "        5.3,  5.6,  5.9,  6.2,  6.5,  6.8,  7.1,  7.4,  7.7,  8. ,  8.3,\n",
       "        8.6,  8.9,  9.2,  9.5,  9.8, 10.1, 10.4, 10.7, 11. , 11.3, 11.6,\n",
       "       11.9, 12.2])"
      ]
     },
     "execution_count": 2,
     "metadata": {},
     "output_type": "execute_result"
    }
   ],
   "source": [
    "import numpy as np\n",
    "a = np.arange(2,12.5,.3)\n",
    "print(a)\n",
    "a"
   ]
  },
  {
   "cell_type": "markdown",
   "id": "9e4404d8",
   "metadata": {},
   "source": [
    "# Printing in reverse order"
   ]
  },
  {
   "cell_type": "code",
   "execution_count": 5,
   "id": "e15a9fd2",
   "metadata": {},
   "outputs": [
    {
     "data": {
      "text/plain": [
       "array([12.2, 11.9, 11.6, 11.3, 11. , 10.7, 10.4, 10.1,  9.8,  9.5,  9.2,\n",
       "        8.9,  8.6,  8.3,  8. ,  7.7,  7.4,  7.1,  6.8,  6.5,  6.2,  5.9,\n",
       "        5.6,  5.3,  5. ,  4.7,  4.4,  4.1,  3.8,  3.5,  3.2,  2.9,  2.6,\n",
       "        2.3,  2. ])"
      ]
     },
     "execution_count": 5,
     "metadata": {},
     "output_type": "execute_result"
    }
   ],
   "source": [
    "a[::-1]"
   ]
  },
  {
   "cell_type": "code",
   "execution_count": 12,
   "id": "20514033",
   "metadata": {},
   "outputs": [
    {
     "data": {
      "text/plain": [
       "array([12.2, 11.6, 11. , 10.4,  9.8,  9.2,  8.6,  8. ,  7.4,  6.8,  6.2,\n",
       "        5.6,  5. ,  4.4,  3.8,  3.2,  2.6,  2. ])"
      ]
     },
     "execution_count": 12,
     "metadata": {},
     "output_type": "execute_result"
    }
   ],
   "source": [
    "a[::-2]"
   ]
  },
  {
   "cell_type": "code",
   "execution_count": 3,
   "id": "c56f7c26",
   "metadata": {},
   "outputs": [
    {
     "name": "stdout",
     "output_type": "stream",
     "text": [
      "[ 1.   1.8  2.6  3.4  4.2  5.   5.8  6.6  7.4  8.2  9.   9.8 10.6 11.4\n",
      " 12.2 13.  13.8 14.6 15.4 16.2 17.  17.8 18.6 19.4 20.2 21.  21.8 22.6\n",
      " 23.4 24.2 25.  25.8 26.6 27.4 28.2 29.  29.8 30.6 31.4 32.2 33.  33.8\n",
      " 34.6 35.4 36.2 37.  37.8 38.6 39.4 40.2 41.  41.8]\n"
     ]
    },
    {
     "data": {
      "text/plain": [
       "array([ 1. ,  1.8,  2.6,  3.4,  4.2,  5. ,  5.8,  6.6,  7.4,  8.2,  9. ,\n",
       "        9.8, 10.6, 11.4, 12.2, 13. , 13.8, 14.6, 15.4, 16.2, 17. , 17.8,\n",
       "       18.6, 19.4, 20.2, 21. , 21.8, 22.6, 23.4, 24.2, 25. , 25.8, 26.6,\n",
       "       27.4, 28.2, 29. , 29.8, 30.6, 31.4, 32.2, 33. , 33.8, 34.6, 35.4,\n",
       "       36.2, 37. , 37.8, 38.6, 39.4, 40.2, 41. , 41.8])"
      ]
     },
     "execution_count": 3,
     "metadata": {},
     "output_type": "execute_result"
    }
   ],
   "source": [
    "b = np.arange(1,42,.8)\n",
    "print(b)\n",
    "b"
   ]
  },
  {
   "cell_type": "markdown",
   "id": "180fb4cb",
   "metadata": {},
   "source": [
    "# Linspace"
   ]
  },
  {
   "cell_type": "code",
   "execution_count": 13,
   "id": "533616f8",
   "metadata": {},
   "outputs": [
    {
     "name": "stdout",
     "output_type": "stream",
     "text": [
      "[ 2.  11.5 21.  30.5 40. ]\n"
     ]
    },
    {
     "data": {
      "text/plain": [
       "array([ 2. , 11.5, 21. , 30.5, 40. ])"
      ]
     },
     "execution_count": 13,
     "metadata": {},
     "output_type": "execute_result"
    }
   ],
   "source": [
    "l = np.linspace(2,40,5)\n",
    "print(l)\n",
    "l"
   ]
  },
  {
   "cell_type": "code",
   "execution_count": 16,
   "id": "0dde3682",
   "metadata": {},
   "outputs": [
    {
     "name": "stdout",
     "output_type": "stream",
     "text": [
      "(array([ 2.        , 18.33333333, 34.66666667, 51.        , 67.33333333,\n",
      "       83.66666667]), 16.333333333333332)\n"
     ]
    }
   ],
   "source": [
    "lin = np.linspace(2,100,6,endpoint=False,retstep=True)\n",
    "print(lin)"
   ]
  },
  {
   "cell_type": "code",
   "execution_count": 17,
   "id": "46204301",
   "metadata": {},
   "outputs": [
    {
     "name": "stdout",
     "output_type": "stream",
     "text": [
      "(array([  2. ,  21.6,  41.2,  60.8,  80.4, 100. ]), 19.6)\n"
     ]
    }
   ],
   "source": [
    "lin = np.linspace(2,100,6,endpoint=True,retstep=True)\n",
    "print(lin)"
   ]
  },
  {
   "cell_type": "code",
   "execution_count": null,
   "id": "9148ef5e",
   "metadata": {},
   "outputs": [],
   "source": []
  }
 ],
 "metadata": {
  "kernelspec": {
   "display_name": "Python 3 (ipykernel)",
   "language": "python",
   "name": "python3"
  },
  "language_info": {
   "codemirror_mode": {
    "name": "ipython",
    "version": 3
   },
   "file_extension": ".py",
   "mimetype": "text/x-python",
   "name": "python",
   "nbconvert_exporter": "python",
   "pygments_lexer": "ipython3",
   "version": "3.9.13"
  }
 },
 "nbformat": 4,
 "nbformat_minor": 5
}
