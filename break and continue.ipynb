{
 "cells": [
  {
   "cell_type": "code",
   "execution_count": 5,
   "id": "59deddea",
   "metadata": {},
   "outputs": [
    {
     "name": "stdout",
     "output_type": "stream",
     "text": [
      "S\n",
      "t\n",
      "r\n",
      "i\n",
      "The End\n"
     ]
    }
   ],
   "source": [
    "for val in \"String\":\n",
    "    if val==\"n\":\n",
    "        break\n",
    "    print(val)\n",
    "print(\"The End\")"
   ]
  },
  {
   "cell_type": "code",
   "execution_count": 7,
   "id": "37945f0d",
   "metadata": {},
   "outputs": [
    {
     "name": "stdout",
     "output_type": "stream",
     "text": [
      "S\n",
      "t\n",
      "r\n",
      "i\n",
      "g\n",
      "The End\n"
     ]
    }
   ],
   "source": [
    "for val in \"String\":\n",
    "    if val!=\"n\":\n",
    "        print(val)\n",
    "    \n",
    "print(\"The End\")"
   ]
  },
  {
   "cell_type": "code",
   "execution_count": 12,
   "id": "8a979b43",
   "metadata": {},
   "outputs": [
    {
     "name": "stdout",
     "output_type": "stream",
     "text": [
      "10\n",
      "20\n",
      "25\n",
      "15 is not printed\n"
     ]
    }
   ],
   "source": [
    "for val in [10,20,25,45,60,15]:\n",
    "    if val>25:\n",
    "        break\n",
    "    print(val)\n",
    "print(\"15 is not printed\")"
   ]
  },
  {
   "cell_type": "code",
   "execution_count": 14,
   "id": "46afeaad",
   "metadata": {},
   "outputs": [
    {
     "name": "stdout",
     "output_type": "stream",
     "text": [
      "S\n",
      "t\n",
      "r\n",
      "n\n",
      "g\n",
      "i is skipped\n"
     ]
    }
   ],
   "source": [
    "for val in \"String\":\n",
    "    if val==\"i\":\n",
    "        continue\n",
    "    print(val)\n",
    "print(\"i is skipped\")"
   ]
  },
  {
   "cell_type": "code",
   "execution_count": 21,
   "id": "b91aef79",
   "metadata": {},
   "outputs": [
    {
     "name": "stdout",
     "output_type": "stream",
     "text": [
      "s\n",
      "t\n",
      "r\n",
      "n\n",
      "g\n",
      "e\n",
      "the end\n"
     ]
    }
   ],
   "source": [
    "for val in \"stringexampe\":\n",
    "    if val==\"i\":\n",
    "        continue\n",
    "    else:\n",
    "        if val==\"x\":\n",
    "            break\n",
    "        print(val)\n",
    "    \n",
    "print(\"the end\")\n",
    "        "
   ]
  },
  {
   "cell_type": "code",
   "execution_count": null,
   "id": "4fb1ff46",
   "metadata": {},
   "outputs": [],
   "source": []
  }
 ],
 "metadata": {
  "kernelspec": {
   "display_name": "Python 3 (ipykernel)",
   "language": "python",
   "name": "python3"
  },
  "language_info": {
   "codemirror_mode": {
    "name": "ipython",
    "version": 3
   },
   "file_extension": ".py",
   "mimetype": "text/x-python",
   "name": "python",
   "nbconvert_exporter": "python",
   "pygments_lexer": "ipython3",
   "version": "3.9.13"
  }
 },
 "nbformat": 4,
 "nbformat_minor": 5
}
