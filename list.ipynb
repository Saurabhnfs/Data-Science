{
 "cells": [
  {
   "cell_type": "code",
   "execution_count": 1,
   "id": "b3536c24",
   "metadata": {},
   "outputs": [
    {
     "name": "stdout",
     "output_type": "stream",
     "text": [
      "Hello World!\n"
     ]
    }
   ],
   "source": [
    "print(\"Hello World!\")"
   ]
  },
  {
   "cell_type": "code",
   "execution_count": 2,
   "id": "df4a8e39",
   "metadata": {},
   "outputs": [
    {
     "name": "stdout",
     "output_type": "stream",
     "text": [
      "Saurabh Narayan Singh\n"
     ]
    }
   ],
   "source": [
    "print(\"Saurabh Narayan Singh\")"
   ]
  },
  {
   "cell_type": "code",
   "execution_count": 3,
   "id": "1a5c2d6c",
   "metadata": {},
   "outputs": [
    {
     "name": "stdout",
     "output_type": "stream",
     "text": [
      "Data Science\n"
     ]
    }
   ],
   "source": [
    "print (\"Data Science\")"
   ]
  },
  {
   "cell_type": "code",
   "execution_count": 4,
   "id": "6ff1ab3c",
   "metadata": {},
   "outputs": [
    {
     "name": "stdout",
     "output_type": "stream",
     "text": [
      "18\n"
     ]
    }
   ],
   "source": [
    "x=3\n",
    "y=6\n",
    "print(x*y)"
   ]
  },
  {
   "cell_type": "code",
   "execution_count": 12,
   "id": "5d22ebe2",
   "metadata": {},
   "outputs": [
    {
     "name": "stdout",
     "output_type": "stream",
     "text": [
      "100\n"
     ]
    }
   ],
   "source": [
    "ten=100\n",
    "print(ten)"
   ]
  },
  {
   "cell_type": "code",
   "execution_count": 16,
   "id": "49e6d478",
   "metadata": {},
   "outputs": [
    {
     "data": {
      "text/plain": [
       "'twenty 9'"
      ]
     },
     "execution_count": 16,
     "metadata": {},
     "output_type": "execute_result"
    }
   ],
   "source": [
    "\"twenty \" + str(9)"
   ]
  },
  {
   "cell_type": "code",
   "execution_count": 17,
   "id": "5683374b",
   "metadata": {},
   "outputs": [
    {
     "name": "stdout",
     "output_type": "stream",
     "text": [
      "20 is a <class 'int'> type\n"
     ]
    }
   ],
   "source": [
    "a = 20\n",
    "print(a, \"is a\", type(a), \"type\")"
   ]
  },
  {
   "cell_type": "code",
   "execution_count": 19,
   "id": "99e3c1b5",
   "metadata": {},
   "outputs": [
    {
     "name": "stdout",
     "output_type": "stream",
     "text": [
      "x is not greater than y\n"
     ]
    }
   ],
   "source": [
    "x=60\n",
    "y=200\n",
    "if (x>y):\n",
    "    print(\"x is greater than y\")\n",
    "else:\n",
    "    print(\"x is not greater than y\")"
   ]
  },
  {
   "cell_type": "code",
   "execution_count": 26,
   "id": "18fc63bb",
   "metadata": {},
   "outputs": [
    {
     "name": "stdout",
     "output_type": "stream",
     "text": [
      "equal\n"
     ]
    }
   ],
   "source": [
    "x=60\n",
    "y=60\n",
    "print(x) if y>x else print(\"equal\") if x==y else print(y)"
   ]
  },
  {
   "cell_type": "code",
   "execution_count": 31,
   "id": "1b6261d9",
   "metadata": {},
   "outputs": [
    {
     "data": {
      "text/plain": [
       "['b', 1, 1.1]"
      ]
     },
     "execution_count": 31,
     "metadata": {},
     "output_type": "execute_result"
    }
   ],
   "source": [
    "l=['b',1,1.1]\n",
    "l"
   ]
  },
  {
   "cell_type": "code",
   "execution_count": 37,
   "id": "35474b50",
   "metadata": {},
   "outputs": [
    {
     "data": {
      "text/plain": [
       "[['b', 1, 1.1]]"
      ]
     },
     "execution_count": 37,
     "metadata": {},
     "output_type": "execute_result"
    }
   ],
   "source": [
    "q=[l]\n",
    "q"
   ]
  },
  {
   "cell_type": "code",
   "execution_count": 35,
   "id": "57fa6960",
   "metadata": {},
   "outputs": [
    {
     "data": {
      "text/plain": [
       "['b', 1, 1.1]"
      ]
     },
     "execution_count": 35,
     "metadata": {},
     "output_type": "execute_result"
    }
   ],
   "source": [
    "w=list(l)\n",
    "w"
   ]
  },
  {
   "cell_type": "code",
   "execution_count": 38,
   "id": "3b060b91",
   "metadata": {},
   "outputs": [
    {
     "data": {
      "text/plain": [
       "['b', 1, 1.1]"
      ]
     },
     "execution_count": 38,
     "metadata": {},
     "output_type": "execute_result"
    }
   ],
   "source": [
    "e=l\n",
    "e"
   ]
  },
  {
   "cell_type": "code",
   "execution_count": 40,
   "id": "5b06f01f",
   "metadata": {},
   "outputs": [
    {
     "data": {
      "text/plain": [
       "['a', 'b', 'c', 'f', 'd', 'r', 'g', 'h', 'j', 'g', 'h', 'd']"
      ]
     },
     "execution_count": 40,
     "metadata": {},
     "output_type": "execute_result"
    }
   ],
   "source": [
    "list('abcfdrghjghd')"
   ]
  },
  {
   "cell_type": "code",
   "execution_count": 101,
   "id": "07f1a3be",
   "metadata": {},
   "outputs": [
    {
     "data": {
      "text/plain": [
       "['s', 'f']"
      ]
     },
     "execution_count": 101,
     "metadata": {},
     "output_type": "execute_result"
    }
   ],
   "source": [
    "a=[]\n",
    "a.append('s')\n",
    "a.append('f')\n",
    "a"
   ]
  },
  {
   "cell_type": "code",
   "execution_count": 49,
   "id": "262ea384",
   "metadata": {},
   "outputs": [
    {
     "data": {
      "text/plain": [
       "['s', 45, 45, 'f']"
      ]
     },
     "execution_count": 49,
     "metadata": {},
     "output_type": "execute_result"
    }
   ],
   "source": [
    "v=[]\n",
    "v.append('s')\n",
    "v.append('f')\n",
    "v.insert(1,45)\n",
    "v.insert(2,45)\n",
    "v"
   ]
  },
  {
   "cell_type": "code",
   "execution_count": 53,
   "id": "bae8c815",
   "metadata": {},
   "outputs": [
    {
     "data": {
      "text/plain": [
       "5"
      ]
     },
     "execution_count": 53,
     "metadata": {},
     "output_type": "execute_result"
    }
   ],
   "source": [
    "my_list=[1,'a','String',21,67]\n",
    "len(my_list)"
   ]
  },
  {
   "cell_type": "code",
   "execution_count": 55,
   "id": "8092e2d1",
   "metadata": {},
   "outputs": [
    {
     "data": {
      "text/plain": [
       "'String'"
      ]
     },
     "execution_count": 55,
     "metadata": {},
     "output_type": "execute_result"
    }
   ],
   "source": [
    "my_list[2]"
   ]
  },
  {
   "cell_type": "code",
   "execution_count": 58,
   "id": "39ca0d21",
   "metadata": {},
   "outputs": [
    {
     "data": {
      "text/plain": [
       "['a', 'String', 21, 67]"
      ]
     },
     "execution_count": 58,
     "metadata": {},
     "output_type": "execute_result"
    }
   ],
   "source": [
    "my_list[1:]"
   ]
  },
  {
   "cell_type": "code",
   "execution_count": 59,
   "id": "465d87f7",
   "metadata": {},
   "outputs": [
    {
     "data": {
      "text/plain": [
       "[1, 'a', 'String', 21]"
      ]
     },
     "execution_count": 59,
     "metadata": {},
     "output_type": "execute_result"
    }
   ],
   "source": [
    "my_list[:4]"
   ]
  },
  {
   "cell_type": "code",
   "execution_count": 65,
   "id": "7860c60c",
   "metadata": {},
   "outputs": [
    {
     "data": {
      "text/plain": [
       "[1, 'a', 'String', 21, 67, 'new']"
      ]
     },
     "execution_count": 65,
     "metadata": {},
     "output_type": "execute_result"
    }
   ],
   "source": [
    "my_list + ['new'] "
   ]
  },
  {
   "cell_type": "code",
   "execution_count": 63,
   "id": "5a6df4be",
   "metadata": {},
   "outputs": [
    {
     "data": {
      "text/plain": [
       "[1, 'a', 'String', 21, 67]"
      ]
     },
     "execution_count": 63,
     "metadata": {},
     "output_type": "execute_result"
    }
   ],
   "source": [
    "my_list"
   ]
  },
  {
   "cell_type": "code",
   "execution_count": 66,
   "id": "c279fdaa",
   "metadata": {},
   "outputs": [
    {
     "data": {
      "text/plain": [
       "[1, 'a', 'String', 21, 67, 'new item']"
      ]
     },
     "execution_count": 66,
     "metadata": {},
     "output_type": "execute_result"
    }
   ],
   "source": [
    "my_list = my_list + ['new item']\n",
    "my_list"
   ]
  },
  {
   "cell_type": "code",
   "execution_count": 67,
   "id": "f3cd9c44",
   "metadata": {},
   "outputs": [
    {
     "name": "stdout",
     "output_type": "stream",
     "text": [
      "[1, 'a', 'String', 21, 67, 'new item']\n"
     ]
    }
   ],
   "source": [
    "print(my_list)"
   ]
  },
  {
   "cell_type": "code",
   "execution_count": 68,
   "id": "66dbe1b3",
   "metadata": {},
   "outputs": [
    {
     "data": {
      "text/plain": [
       "[1, 'a', 'String', 21, 67, 'new item', 1, 'a', 'String', 21, 67, 'new item']"
      ]
     },
     "execution_count": 68,
     "metadata": {},
     "output_type": "execute_result"
    }
   ],
   "source": [
    "my_list*2"
   ]
  },
  {
   "cell_type": "code",
   "execution_count": 69,
   "id": "5f4beb4c",
   "metadata": {},
   "outputs": [
    {
     "data": {
      "text/plain": [
       "[1, 'a', 'String', 21, 67, 'new item']"
      ]
     },
     "execution_count": 69,
     "metadata": {},
     "output_type": "execute_result"
    }
   ],
   "source": [
    "my_list"
   ]
  },
  {
   "cell_type": "code",
   "execution_count": 70,
   "id": "657c9768",
   "metadata": {},
   "outputs": [
    {
     "data": {
      "text/plain": [
       "[1,\n",
       " 'a',\n",
       " 'String',\n",
       " 21,\n",
       " 67,\n",
       " 'new item',\n",
       " 1,\n",
       " 'a',\n",
       " 'String',\n",
       " 21,\n",
       " 67,\n",
       " 'new item',\n",
       " 1,\n",
       " 'a',\n",
       " 'String',\n",
       " 21,\n",
       " 67,\n",
       " 'new item']"
      ]
     },
     "execution_count": 70,
     "metadata": {},
     "output_type": "execute_result"
    }
   ],
   "source": [
    "my_list = my_list * 3\n",
    "my_list"
   ]
  },
  {
   "cell_type": "code",
   "execution_count": 71,
   "id": "33d99965",
   "metadata": {},
   "outputs": [
    {
     "data": {
      "text/plain": [
       "'new item'"
      ]
     },
     "execution_count": 71,
     "metadata": {},
     "output_type": "execute_result"
    }
   ],
   "source": [
    "my_list.pop()"
   ]
  },
  {
   "cell_type": "code",
   "execution_count": 72,
   "id": "4371e293",
   "metadata": {},
   "outputs": [
    {
     "data": {
      "text/plain": [
       "[1,\n",
       " 'a',\n",
       " 'String',\n",
       " 21,\n",
       " 67,\n",
       " 'new item',\n",
       " 1,\n",
       " 'a',\n",
       " 'String',\n",
       " 21,\n",
       " 67,\n",
       " 'new item',\n",
       " 1,\n",
       " 'a',\n",
       " 'String',\n",
       " 21,\n",
       " 67]"
      ]
     },
     "execution_count": 72,
     "metadata": {},
     "output_type": "execute_result"
    }
   ],
   "source": [
    "my_list"
   ]
  },
  {
   "cell_type": "code",
   "execution_count": 74,
   "id": "668b1f01",
   "metadata": {},
   "outputs": [
    {
     "data": {
      "text/plain": [
       "'String'"
      ]
     },
     "execution_count": 74,
     "metadata": {},
     "output_type": "execute_result"
    }
   ],
   "source": [
    "my_list.pop(2)"
   ]
  },
  {
   "cell_type": "code",
   "execution_count": 85,
   "id": "f902e7dc",
   "metadata": {},
   "outputs": [
    {
     "data": {
      "text/plain": [
       "[1, 'a', 21, 67, 'new item', 1, 'a', 'String', 21, 67, 'new item']"
      ]
     },
     "execution_count": 85,
     "metadata": {},
     "output_type": "execute_result"
    }
   ],
   "source": [
    "my_list"
   ]
  },
  {
   "cell_type": "code",
   "execution_count": 81,
   "id": "d37d1561",
   "metadata": {},
   "outputs": [
    {
     "data": {
      "text/plain": [
       "1"
      ]
     },
     "execution_count": 81,
     "metadata": {},
     "output_type": "execute_result"
    }
   ],
   "source": [
    "my_list1 = my_list.pop()\n",
    "my_list1"
   ]
  },
  {
   "cell_type": "code",
   "execution_count": 86,
   "id": "b1b99991",
   "metadata": {},
   "outputs": [
    {
     "data": {
      "text/plain": [
       "[1, 2, 3, 4]"
      ]
     },
     "execution_count": 86,
     "metadata": {},
     "output_type": "execute_result"
    }
   ],
   "source": [
    "list = [1,2,3,4]\n",
    "list"
   ]
  },
  {
   "cell_type": "code",
   "execution_count": 89,
   "id": "9190ac10",
   "metadata": {},
   "outputs": [
    {
     "data": {
      "text/plain": [
       "[4, 3, 2, 1]"
      ]
     },
     "execution_count": 89,
     "metadata": {},
     "output_type": "execute_result"
    }
   ],
   "source": [
    "list.reverse()\n",
    "list"
   ]
  },
  {
   "cell_type": "code",
   "execution_count": 91,
   "id": "6fa03a05",
   "metadata": {},
   "outputs": [
    {
     "data": {
      "text/plain": [
       "[1, 2, 3, 4]"
      ]
     },
     "execution_count": 91,
     "metadata": {},
     "output_type": "execute_result"
    }
   ],
   "source": [
    "list.sort()\n",
    "list"
   ]
  },
  {
   "cell_type": "code",
   "execution_count": 92,
   "id": "ef705727",
   "metadata": {},
   "outputs": [
    {
     "data": {
      "text/plain": [
       "[[2, 54, 32, 23], [34, 76, 45, 21], [1, 5, 3, 6]]"
      ]
     },
     "execution_count": 92,
     "metadata": {},
     "output_type": "execute_result"
    }
   ],
   "source": [
    "list1 = [2,54,32,23]\n",
    "list2 = [34,76,45,21]\n",
    "list3 = [1,5,3,6]\n",
    "matrix = [list1, list2, list3]\n",
    "matrix"
   ]
  },
  {
   "cell_type": "code",
   "execution_count": 93,
   "id": "5a81299c",
   "metadata": {},
   "outputs": [
    {
     "data": {
      "text/plain": [
       "[[1, 5, 3, 6], [2, 54, 32, 23], [34, 76, 45, 21]]"
      ]
     },
     "execution_count": 93,
     "metadata": {},
     "output_type": "execute_result"
    }
   ],
   "source": [
    "matrix.sort()\n",
    "matrix"
   ]
  },
  {
   "cell_type": "code",
   "execution_count": 94,
   "id": "29f8fde1",
   "metadata": {},
   "outputs": [
    {
     "data": {
      "text/plain": [
       "3"
      ]
     },
     "execution_count": 94,
     "metadata": {},
     "output_type": "execute_result"
    }
   ],
   "source": [
    "len(matrix)"
   ]
  },
  {
   "cell_type": "code",
   "execution_count": 99,
   "id": "1aa107c7",
   "metadata": {},
   "outputs": [
    {
     "data": {
      "text/plain": [
       "21"
      ]
     },
     "execution_count": 99,
     "metadata": {},
     "output_type": "execute_result"
    }
   ],
   "source": [
    "matrix[2][3]"
   ]
  },
  {
   "cell_type": "code",
   "execution_count": null,
   "id": "9ff6cf6c",
   "metadata": {},
   "outputs": [],
   "source": []
  }
 ],
 "metadata": {
  "kernelspec": {
   "display_name": "Python 3 (ipykernel)",
   "language": "python",
   "name": "python3"
  },
  "language_info": {
   "codemirror_mode": {
    "name": "ipython",
    "version": 3
   },
   "file_extension": ".py",
   "mimetype": "text/x-python",
   "name": "python",
   "nbconvert_exporter": "python",
   "pygments_lexer": "ipython3",
   "version": "3.9.13"
  }
 },
 "nbformat": 4,
 "nbformat_minor": 5
}
