{
 "cells": [
  {
   "cell_type": "code",
   "execution_count": 1,
   "id": "5aaa99cf",
   "metadata": {},
   "outputs": [
    {
     "data": {
      "text/plain": [
       "range(0, 10)"
      ]
     },
     "execution_count": 1,
     "metadata": {},
     "output_type": "execute_result"
    }
   ],
   "source": [
    "range(10)"
   ]
  },
  {
   "cell_type": "code",
   "execution_count": 2,
   "id": "76f88a9c",
   "metadata": {},
   "outputs": [
    {
     "name": "stdout",
     "output_type": "stream",
     "text": [
      "[0, 1, 2, 3, 4, 5, 6, 7, 8, 9]\n"
     ]
    }
   ],
   "source": [
    "print(list(range(10)))"
   ]
  },
  {
   "cell_type": "code",
   "execution_count": 3,
   "id": "bfbc15ea",
   "metadata": {},
   "outputs": [
    {
     "name": "stdout",
     "output_type": "stream",
     "text": [
      "[10, 11, 12, 13, 14, 15, 16, 17, 18, 19, 20, 21, 22, 23, 24, 25, 26, 27, 28, 29]\n"
     ]
    }
   ],
   "source": [
    "print(list(range(10, 30)))"
   ]
  },
  {
   "cell_type": "code",
   "execution_count": 4,
   "id": "5acee51b",
   "metadata": {},
   "outputs": [
    {
     "name": "stdout",
     "output_type": "stream",
     "text": [
      "[10, 14, 18, 22, 26]\n"
     ]
    }
   ],
   "source": [
    "print(list(range(10, 30, 4)))"
   ]
  },
  {
   "cell_type": "code",
   "execution_count": 5,
   "id": "0991711e",
   "metadata": {},
   "outputs": [
    {
     "name": "stdout",
     "output_type": "stream",
     "text": [
      "I like  Laptop\n",
      "I like  TV\n",
      "I like  Camera\n",
      "I like  Mobile\n"
     ]
    }
   ],
   "source": [
    "device = [\"Laptop\", \"TV\", \"Camera\", \"Mobile\"]\n",
    "\n",
    "for i in range(len(device)):\n",
    "    print(\"I like \",device[i])"
   ]
  },
  {
   "cell_type": "code",
   "execution_count": 9,
   "id": "7b4a7b00",
   "metadata": {},
   "outputs": [
    {
     "name": "stdout",
     "output_type": "stream",
     "text": [
      "[21, 31, 41, 51, 61]\n"
     ]
    }
   ],
   "source": [
    "print(list(range(21,70,10)))"
   ]
  },
  {
   "cell_type": "code",
   "execution_count": null,
   "id": "fab0263e",
   "metadata": {},
   "outputs": [],
   "source": []
  }
 ],
 "metadata": {
  "kernelspec": {
   "display_name": "Python 3 (ipykernel)",
   "language": "python",
   "name": "python3"
  },
  "language_info": {
   "codemirror_mode": {
    "name": "ipython",
    "version": 3
   },
   "file_extension": ".py",
   "mimetype": "text/x-python",
   "name": "python",
   "nbconvert_exporter": "python",
   "pygments_lexer": "ipython3",
   "version": "3.9.13"
  }
 },
 "nbformat": 4,
 "nbformat_minor": 5
}
