{
 "cells": [
  {
   "cell_type": "code",
   "execution_count": 1,
   "id": "3f585ba2",
   "metadata": {},
   "outputs": [
    {
     "data": {
      "text/plain": [
       "set()"
      ]
     },
     "execution_count": 1,
     "metadata": {},
     "output_type": "execute_result"
    }
   ],
   "source": [
    "s = set()\n",
    "s"
   ]
  },
  {
   "cell_type": "code",
   "execution_count": 2,
   "id": "90935371",
   "metadata": {},
   "outputs": [
    {
     "data": {
      "text/plain": [
       "set"
      ]
     },
     "execution_count": 2,
     "metadata": {},
     "output_type": "execute_result"
    }
   ],
   "source": [
    "type(s)"
   ]
  },
  {
   "cell_type": "code",
   "execution_count": 7,
   "id": "de5ba1e3",
   "metadata": {},
   "outputs": [
    {
     "data": {
      "text/plain": [
       "{3}"
      ]
     },
     "execution_count": 7,
     "metadata": {},
     "output_type": "execute_result"
    }
   ],
   "source": [
    "s.add(3)\n",
    "s"
   ]
  },
  {
   "cell_type": "code",
   "execution_count": 8,
   "id": "96f6e550",
   "metadata": {},
   "outputs": [
    {
     "data": {
      "text/plain": [
       "{3, 7}"
      ]
     },
     "execution_count": 8,
     "metadata": {},
     "output_type": "execute_result"
    }
   ],
   "source": [
    "s.add(7)\n",
    "s"
   ]
  },
  {
   "cell_type": "code",
   "execution_count": 9,
   "id": "d3c2781f",
   "metadata": {},
   "outputs": [
    {
     "data": {
      "text/plain": [
       "{3, 7}"
      ]
     },
     "execution_count": 9,
     "metadata": {},
     "output_type": "execute_result"
    }
   ],
   "source": [
    "s.add(3)\n",
    "s"
   ]
  },
  {
   "cell_type": "code",
   "execution_count": 11,
   "id": "9fb60eb9",
   "metadata": {},
   "outputs": [
    {
     "data": {
      "text/plain": [
       "['Saurabh',\n",
       " 'Saurabh',\n",
       " 'Sayandrila',\n",
       " 'Saurabh',\n",
       " 'Bhargav',\n",
       " 'Satyarth',\n",
       " 'Satish',\n",
       " 'Satyarth']"
      ]
     },
     "execution_count": 11,
     "metadata": {},
     "output_type": "execute_result"
    }
   ],
   "source": [
    "employees = ['Saurabh', 'Saurabh', 'Sayandrila','Saurabh', 'Bhargav', 'Satyarth', 'Satish', 'Satyarth']\n",
    "employees"
   ]
  },
  {
   "cell_type": "code",
   "execution_count": 12,
   "id": "4ba19a1b",
   "metadata": {},
   "outputs": [
    {
     "data": {
      "text/plain": [
       "{'Bhargav', 'Satish', 'Satyarth', 'Saurabh', 'Sayandrila'}"
      ]
     },
     "execution_count": 12,
     "metadata": {},
     "output_type": "execute_result"
    }
   ],
   "source": [
    "set(employees)"
   ]
  },
  {
   "cell_type": "code",
   "execution_count": 14,
   "id": "7fa28710",
   "metadata": {},
   "outputs": [
    {
     "data": {
      "text/plain": [
       "['Saurabh',\n",
       " 'Saurabh',\n",
       " 'Sayandrila',\n",
       " 'Saurabh',\n",
       " 'Bhargav',\n",
       " 'Satyarth',\n",
       " 'Satish',\n",
       " 'Satyarth']"
      ]
     },
     "execution_count": 14,
     "metadata": {},
     "output_type": "execute_result"
    }
   ],
   "source": [
    "employees"
   ]
  },
  {
   "cell_type": "code",
   "execution_count": null,
   "id": "b443a173",
   "metadata": {},
   "outputs": [],
   "source": []
  },
  {
   "cell_type": "code",
   "execution_count": null,
   "id": "9b63c1ce",
   "metadata": {},
   "outputs": [],
   "source": [
    "# map() Example:"
   ]
  },
  {
   "cell_type": "code",
   "execution_count": 16,
   "id": "973711e8",
   "metadata": {},
   "outputs": [
    {
     "name": "stdout",
     "output_type": "stream",
     "text": [
      "Hello Saurabh Narayan Singh\n"
     ]
    }
   ],
   "source": [
    "def my_function():\n",
    "    print(\"Hello Saurabh Narayan Singh\")\n",
    "my_function()"
   ]
  },
  {
   "cell_type": "code",
   "execution_count": 30,
   "id": "c1b65a8d",
   "metadata": {},
   "outputs": [
    {
     "data": {
      "text/plain": [
       "[212.972, 410.0, 158.0, 176.0]"
      ]
     },
     "execution_count": 30,
     "metadata": {},
     "output_type": "execute_result"
    }
   ],
   "source": [
    "def fahrenheit(T):\n",
    "    return((float(9)/5)*T+32)\n",
    "\n",
    "def celcius(T):\n",
    "    return(float(5)/9)*(T-32)\n",
    "\n",
    "temperature = [100.54,210,70,80]\n",
    "\n",
    "F_temperature = list(map(fahrenheit,temperature))\n",
    "F_temperature"
   ]
  },
  {
   "cell_type": "code",
   "execution_count": 34,
   "id": "6bd2013e",
   "metadata": {},
   "outputs": [
    {
     "data": {
      "text/plain": [
       "[86.31777777777779, 195.7777777777778, 55.777777777777786, 65.77777777777779]"
      ]
     },
     "execution_count": 34,
     "metadata": {},
     "output_type": "execute_result"
    }
   ],
   "source": [
    "C_temperature = list(map(celcius,F_temperature))\n",
    "C_temperature"
   ]
  },
  {
   "cell_type": "code",
   "execution_count": 40,
   "id": "63d56956",
   "metadata": {},
   "outputs": [
    {
     "data": {
      "text/plain": [
       "[38.07777777777778, 98.8888888888889, 21.11111111111111, 26.666666666666668]"
      ]
     },
     "execution_count": 40,
     "metadata": {},
     "output_type": "execute_result"
    }
   ],
   "source": [
    "list(map(lambda x: (5.0/9)*(x-32),temperature))"
   ]
  },
  {
   "cell_type": "code",
   "execution_count": null,
   "id": "3a33da21",
   "metadata": {},
   "outputs": [],
   "source": []
  },
  {
   "cell_type": "code",
   "execution_count": 41,
   "id": "436f3940",
   "metadata": {},
   "outputs": [],
   "source": [
    "# Range() Examples:"
   ]
  },
  {
   "cell_type": "code",
   "execution_count": 2,
   "id": "76f30aea",
   "metadata": {},
   "outputs": [
    {
     "data": {
      "text/plain": [
       "[0, 2, 4, 6, 8, 10, 12, 14, 16, 18]"
      ]
     },
     "execution_count": 2,
     "metadata": {},
     "output_type": "execute_result"
    }
   ],
   "source": [
    "def even_check(num):\n",
    "    if num%2 == 0:\n",
    "        return True\n",
    "lst =range(20)\n",
    "list(filter(even_check,lst))"
   ]
  },
  {
   "cell_type": "code",
   "execution_count": 6,
   "id": "3e3d6adb",
   "metadata": {},
   "outputs": [
    {
     "data": {
      "text/plain": [
       "[1, 3, 5, 7, 9, 11, 13, 15, 17, 19]"
      ]
     },
     "execution_count": 6,
     "metadata": {},
     "output_type": "execute_result"
    }
   ],
   "source": [
    "def odd_check(o):\n",
    "    if o%2 != 0:\n",
    "        return True\n",
    "lt =range(20)\n",
    "list(filter(odd_check,lt))"
   ]
  },
  {
   "cell_type": "code",
   "execution_count": 9,
   "id": "344aaf74",
   "metadata": {},
   "outputs": [
    {
     "data": {
      "text/plain": [
       "[0, 2, 4, 6, 8, 10, 12, 14, 16, 18]"
      ]
     },
     "execution_count": 9,
     "metadata": {},
     "output_type": "execute_result"
    }
   ],
   "source": [
    "list(filter(lambda x : x%2 == 0, lst))"
   ]
  },
  {
   "cell_type": "code",
   "execution_count": null,
   "id": "626f0c7b",
   "metadata": {},
   "outputs": [],
   "source": []
  }
 ],
 "metadata": {
  "kernelspec": {
   "display_name": "Python 3 (ipykernel)",
   "language": "python",
   "name": "python3"
  },
  "language_info": {
   "codemirror_mode": {
    "name": "ipython",
    "version": 3
   },
   "file_extension": ".py",
   "mimetype": "text/x-python",
   "name": "python",
   "nbconvert_exporter": "python",
   "pygments_lexer": "ipython3",
   "version": "3.9.13"
  }
 },
 "nbformat": 4,
 "nbformat_minor": 5
}
